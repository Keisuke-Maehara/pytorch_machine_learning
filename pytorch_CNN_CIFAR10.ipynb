{
  "nbformat": 4,
  "nbformat_minor": 0,
  "metadata": {
    "colab": {
      "name": "pytorch_CNN_CIFAR10.ipynb",
      "provenance": [],
      "collapsed_sections": []
    },
    "kernelspec": {
      "name": "python3",
      "display_name": "Python 3"
    },
    "language_info": {
      "name": "python"
    },
    "accelerator": "GPU",
    "widgets": {
      "application/vnd.jupyter.widget-state+json": {
        "7b0a16ef612244d6908de53fdf7dcee0": {
          "model_module": "@jupyter-widgets/controls",
          "model_name": "HBoxModel",
          "model_module_version": "1.5.0",
          "state": {
            "_dom_classes": [],
            "_model_module": "@jupyter-widgets/controls",
            "_model_module_version": "1.5.0",
            "_model_name": "HBoxModel",
            "_view_count": null,
            "_view_module": "@jupyter-widgets/controls",
            "_view_module_version": "1.5.0",
            "_view_name": "HBoxView",
            "box_style": "",
            "children": [
              "IPY_MODEL_098ddfc78e1e4334a91e5dd287e3314c",
              "IPY_MODEL_0f435eff1cf34607a54ea294358fb84c",
              "IPY_MODEL_40a8846d74884a8999d31f1b3b12cdd5"
            ],
            "layout": "IPY_MODEL_b830ecbbc051499e86bb3fa954000da9"
          }
        },
        "098ddfc78e1e4334a91e5dd287e3314c": {
          "model_module": "@jupyter-widgets/controls",
          "model_name": "HTMLModel",
          "model_module_version": "1.5.0",
          "state": {
            "_dom_classes": [],
            "_model_module": "@jupyter-widgets/controls",
            "_model_module_version": "1.5.0",
            "_model_name": "HTMLModel",
            "_view_count": null,
            "_view_module": "@jupyter-widgets/controls",
            "_view_module_version": "1.5.0",
            "_view_name": "HTMLView",
            "description": "",
            "description_tooltip": null,
            "layout": "IPY_MODEL_421a6bc3d900447485af5a03fa4e3c27",
            "placeholder": "​",
            "style": "IPY_MODEL_238226ec8f44436a992a9ab74be67278",
            "value": ""
          }
        },
        "0f435eff1cf34607a54ea294358fb84c": {
          "model_module": "@jupyter-widgets/controls",
          "model_name": "FloatProgressModel",
          "model_module_version": "1.5.0",
          "state": {
            "_dom_classes": [],
            "_model_module": "@jupyter-widgets/controls",
            "_model_module_version": "1.5.0",
            "_model_name": "FloatProgressModel",
            "_view_count": null,
            "_view_module": "@jupyter-widgets/controls",
            "_view_module_version": "1.5.0",
            "_view_name": "ProgressView",
            "bar_style": "success",
            "description": "",
            "description_tooltip": null,
            "layout": "IPY_MODEL_eb3e5b5ed6c94576b58feed0c1e3f721",
            "max": 170498071,
            "min": 0,
            "orientation": "horizontal",
            "style": "IPY_MODEL_f8424fc79c3f4a49873d5f03f5d9b768",
            "value": 170498071
          }
        },
        "40a8846d74884a8999d31f1b3b12cdd5": {
          "model_module": "@jupyter-widgets/controls",
          "model_name": "HTMLModel",
          "model_module_version": "1.5.0",
          "state": {
            "_dom_classes": [],
            "_model_module": "@jupyter-widgets/controls",
            "_model_module_version": "1.5.0",
            "_model_name": "HTMLModel",
            "_view_count": null,
            "_view_module": "@jupyter-widgets/controls",
            "_view_module_version": "1.5.0",
            "_view_name": "HTMLView",
            "description": "",
            "description_tooltip": null,
            "layout": "IPY_MODEL_bf5a12633f7b4a2e86b649d5cb75536f",
            "placeholder": "​",
            "style": "IPY_MODEL_3c0ba1b7b6234e1e9112856c8d1ffd12",
            "value": " 170499072/? [00:03&lt;00:00, 53108324.36it/s]"
          }
        },
        "b830ecbbc051499e86bb3fa954000da9": {
          "model_module": "@jupyter-widgets/base",
          "model_name": "LayoutModel",
          "model_module_version": "1.2.0",
          "state": {
            "_model_module": "@jupyter-widgets/base",
            "_model_module_version": "1.2.0",
            "_model_name": "LayoutModel",
            "_view_count": null,
            "_view_module": "@jupyter-widgets/base",
            "_view_module_version": "1.2.0",
            "_view_name": "LayoutView",
            "align_content": null,
            "align_items": null,
            "align_self": null,
            "border": null,
            "bottom": null,
            "display": null,
            "flex": null,
            "flex_flow": null,
            "grid_area": null,
            "grid_auto_columns": null,
            "grid_auto_flow": null,
            "grid_auto_rows": null,
            "grid_column": null,
            "grid_gap": null,
            "grid_row": null,
            "grid_template_areas": null,
            "grid_template_columns": null,
            "grid_template_rows": null,
            "height": null,
            "justify_content": null,
            "justify_items": null,
            "left": null,
            "margin": null,
            "max_height": null,
            "max_width": null,
            "min_height": null,
            "min_width": null,
            "object_fit": null,
            "object_position": null,
            "order": null,
            "overflow": null,
            "overflow_x": null,
            "overflow_y": null,
            "padding": null,
            "right": null,
            "top": null,
            "visibility": null,
            "width": null
          }
        },
        "421a6bc3d900447485af5a03fa4e3c27": {
          "model_module": "@jupyter-widgets/base",
          "model_name": "LayoutModel",
          "model_module_version": "1.2.0",
          "state": {
            "_model_module": "@jupyter-widgets/base",
            "_model_module_version": "1.2.0",
            "_model_name": "LayoutModel",
            "_view_count": null,
            "_view_module": "@jupyter-widgets/base",
            "_view_module_version": "1.2.0",
            "_view_name": "LayoutView",
            "align_content": null,
            "align_items": null,
            "align_self": null,
            "border": null,
            "bottom": null,
            "display": null,
            "flex": null,
            "flex_flow": null,
            "grid_area": null,
            "grid_auto_columns": null,
            "grid_auto_flow": null,
            "grid_auto_rows": null,
            "grid_column": null,
            "grid_gap": null,
            "grid_row": null,
            "grid_template_areas": null,
            "grid_template_columns": null,
            "grid_template_rows": null,
            "height": null,
            "justify_content": null,
            "justify_items": null,
            "left": null,
            "margin": null,
            "max_height": null,
            "max_width": null,
            "min_height": null,
            "min_width": null,
            "object_fit": null,
            "object_position": null,
            "order": null,
            "overflow": null,
            "overflow_x": null,
            "overflow_y": null,
            "padding": null,
            "right": null,
            "top": null,
            "visibility": null,
            "width": null
          }
        },
        "238226ec8f44436a992a9ab74be67278": {
          "model_module": "@jupyter-widgets/controls",
          "model_name": "DescriptionStyleModel",
          "model_module_version": "1.5.0",
          "state": {
            "_model_module": "@jupyter-widgets/controls",
            "_model_module_version": "1.5.0",
            "_model_name": "DescriptionStyleModel",
            "_view_count": null,
            "_view_module": "@jupyter-widgets/base",
            "_view_module_version": "1.2.0",
            "_view_name": "StyleView",
            "description_width": ""
          }
        },
        "eb3e5b5ed6c94576b58feed0c1e3f721": {
          "model_module": "@jupyter-widgets/base",
          "model_name": "LayoutModel",
          "model_module_version": "1.2.0",
          "state": {
            "_model_module": "@jupyter-widgets/base",
            "_model_module_version": "1.2.0",
            "_model_name": "LayoutModel",
            "_view_count": null,
            "_view_module": "@jupyter-widgets/base",
            "_view_module_version": "1.2.0",
            "_view_name": "LayoutView",
            "align_content": null,
            "align_items": null,
            "align_self": null,
            "border": null,
            "bottom": null,
            "display": null,
            "flex": null,
            "flex_flow": null,
            "grid_area": null,
            "grid_auto_columns": null,
            "grid_auto_flow": null,
            "grid_auto_rows": null,
            "grid_column": null,
            "grid_gap": null,
            "grid_row": null,
            "grid_template_areas": null,
            "grid_template_columns": null,
            "grid_template_rows": null,
            "height": null,
            "justify_content": null,
            "justify_items": null,
            "left": null,
            "margin": null,
            "max_height": null,
            "max_width": null,
            "min_height": null,
            "min_width": null,
            "object_fit": null,
            "object_position": null,
            "order": null,
            "overflow": null,
            "overflow_x": null,
            "overflow_y": null,
            "padding": null,
            "right": null,
            "top": null,
            "visibility": null,
            "width": null
          }
        },
        "f8424fc79c3f4a49873d5f03f5d9b768": {
          "model_module": "@jupyter-widgets/controls",
          "model_name": "ProgressStyleModel",
          "model_module_version": "1.5.0",
          "state": {
            "_model_module": "@jupyter-widgets/controls",
            "_model_module_version": "1.5.0",
            "_model_name": "ProgressStyleModel",
            "_view_count": null,
            "_view_module": "@jupyter-widgets/base",
            "_view_module_version": "1.2.0",
            "_view_name": "StyleView",
            "bar_color": null,
            "description_width": ""
          }
        },
        "bf5a12633f7b4a2e86b649d5cb75536f": {
          "model_module": "@jupyter-widgets/base",
          "model_name": "LayoutModel",
          "model_module_version": "1.2.0",
          "state": {
            "_model_module": "@jupyter-widgets/base",
            "_model_module_version": "1.2.0",
            "_model_name": "LayoutModel",
            "_view_count": null,
            "_view_module": "@jupyter-widgets/base",
            "_view_module_version": "1.2.0",
            "_view_name": "LayoutView",
            "align_content": null,
            "align_items": null,
            "align_self": null,
            "border": null,
            "bottom": null,
            "display": null,
            "flex": null,
            "flex_flow": null,
            "grid_area": null,
            "grid_auto_columns": null,
            "grid_auto_flow": null,
            "grid_auto_rows": null,
            "grid_column": null,
            "grid_gap": null,
            "grid_row": null,
            "grid_template_areas": null,
            "grid_template_columns": null,
            "grid_template_rows": null,
            "height": null,
            "justify_content": null,
            "justify_items": null,
            "left": null,
            "margin": null,
            "max_height": null,
            "max_width": null,
            "min_height": null,
            "min_width": null,
            "object_fit": null,
            "object_position": null,
            "order": null,
            "overflow": null,
            "overflow_x": null,
            "overflow_y": null,
            "padding": null,
            "right": null,
            "top": null,
            "visibility": null,
            "width": null
          }
        },
        "3c0ba1b7b6234e1e9112856c8d1ffd12": {
          "model_module": "@jupyter-widgets/controls",
          "model_name": "DescriptionStyleModel",
          "model_module_version": "1.5.0",
          "state": {
            "_model_module": "@jupyter-widgets/controls",
            "_model_module_version": "1.5.0",
            "_model_name": "DescriptionStyleModel",
            "_view_count": null,
            "_view_module": "@jupyter-widgets/base",
            "_view_module_version": "1.2.0",
            "_view_name": "StyleView",
            "description_width": ""
          }
        }
      }
    }
  },
  "cells": [
    {
      "cell_type": "code",
      "execution_count": 2,
      "metadata": {
        "id": "m-0dDCjX7AIG"
      },
      "outputs": [],
      "source": [
        "import torch\n",
        "import torchvision\n",
        "import torch.nn as nn\n",
        "import torch.optim as optim\n",
        "import numpy as np\n",
        "from torchvision import datasets, transforms\n",
        "import matplotlib.pyplot as plt\n",
        "from torch.utils.data import DataLoader"
      ]
    },
    {
      "cell_type": "code",
      "source": [
        "device = \"cuda\" if torch.cuda.is_available() else \"cpu\""
      ],
      "metadata": {
        "id": "Uij_vTLy7z34"
      },
      "execution_count": 3,
      "outputs": []
    },
    {
      "cell_type": "code",
      "source": [
        "device"
      ],
      "metadata": {
        "colab": {
          "base_uri": "https://localhost:8080/",
          "height": 36
        },
        "id": "sCSi_No79KOr",
        "outputId": "17695ce7-3f19-41e1-e6f1-36a47f87d642"
      },
      "execution_count": 4,
      "outputs": [
        {
          "output_type": "execute_result",
          "data": {
            "text/plain": [
              "'cuda'"
            ],
            "application/vnd.google.colaboratory.intrinsic+json": {
              "type": "string"
            }
          },
          "metadata": {},
          "execution_count": 4
        }
      ]
    },
    {
      "cell_type": "code",
      "execution_count": 5,
      "metadata": {
        "colab": {
          "base_uri": "https://localhost:8080/",
          "height": 103,
          "referenced_widgets": [
            "7b0a16ef612244d6908de53fdf7dcee0",
            "098ddfc78e1e4334a91e5dd287e3314c",
            "0f435eff1cf34607a54ea294358fb84c",
            "40a8846d74884a8999d31f1b3b12cdd5",
            "b830ecbbc051499e86bb3fa954000da9",
            "421a6bc3d900447485af5a03fa4e3c27",
            "238226ec8f44436a992a9ab74be67278",
            "eb3e5b5ed6c94576b58feed0c1e3f721",
            "f8424fc79c3f4a49873d5f03f5d9b768",
            "bf5a12633f7b4a2e86b649d5cb75536f",
            "3c0ba1b7b6234e1e9112856c8d1ffd12"
          ]
        },
        "id": "aogs2P76d-mK",
        "outputId": "ab5a0752-14b4-4438-ca7f-1dd5835654a3"
      },
      "outputs": [
        {
          "output_type": "stream",
          "name": "stdout",
          "text": [
            "Downloading https://www.cs.toronto.edu/~kriz/cifar-10-python.tar.gz to ./data/cifar-10-python.tar.gz\n"
          ]
        },
        {
          "output_type": "display_data",
          "data": {
            "text/plain": [
              "  0%|          | 0/170498071 [00:00<?, ?it/s]"
            ],
            "application/vnd.jupyter.widget-view+json": {
              "version_major": 2,
              "version_minor": 0,
              "model_id": "7b0a16ef612244d6908de53fdf7dcee0"
            }
          },
          "metadata": {}
        },
        {
          "output_type": "stream",
          "name": "stdout",
          "text": [
            "Extracting ./data/cifar-10-python.tar.gz to ./data\n",
            "Files already downloaded and verified\n"
          ]
        }
      ],
      "source": [
        "#検証データの前処理\n",
        "val_transform = transforms.Compose([\n",
        "    transforms.ToTensor(),\n",
        "    transforms.Normalize((0.5,), (0.5,))                                \n",
        "])\n",
        "#学習データの前処理\n",
        "train_transform = transforms.Compose([\n",
        "    transforms.RandomHorizontalFlip(),#データの拡張。ランダムに画像を反転\n",
        "    transforms.ColorJitter(),#データの拡張。明るさや色相をランダムに変える\n",
        "    transforms.RandomRotation(10),#データの拡張。画像の±10度の回転\n",
        "    transforms.ToTensor(),\n",
        "    transforms.Normalize((0.5,), (0.5,))                                \n",
        "])\n",
        "\n",
        "train_dataset = datasets.CIFAR10(root=\"./data\", train=True, download=True, transform=train_transform)#学習データセット\n",
        "validation_dataset = datasets.CIFAR10(root=\"./data\", train=False, download=True, transform=val_transform)#検証データセット"
      ]
    },
    {
      "cell_type": "code",
      "execution_count": 6,
      "metadata": {
        "id": "Yfp8dGyMepKi"
      },
      "outputs": [],
      "source": [
        "names = (\"plane\", \"car\", \"bird\", \"cat\", \"deer\", \"dog\", \"frog\", \"horse\", \"ship\", \"truck\")"
      ]
    },
    {
      "cell_type": "code",
      "source": [
        "train_dataloader = DataLoader(train_dataset, batch_size=32, shuffle=True)#学習時には読み込みをランダムにするためにシャッフルをTrueにする\n",
        "validation_dataloader = DataLoader(validation_dataset, batch_size=32, shuffle=False)"
      ],
      "metadata": {
        "id": "d6G6IbDS_fQ4"
      },
      "execution_count": 7,
      "outputs": []
    },
    {
      "cell_type": "code",
      "source": [
        "data_iter = iter(train_dataloader)#学習データの画像とラベルをとって格納。32個ずつにバッチ化されている"
      ],
      "metadata": {
        "id": "TXkoVJsQAeKA"
      },
      "execution_count": 8,
      "outputs": []
    },
    {
      "cell_type": "code",
      "source": [
        "imgs, labels = data_iter.next()#最初のバッチの32個のデータとそのラベルを格納"
      ],
      "metadata": {
        "id": "UHCQb-ZHAePF"
      },
      "execution_count": 9,
      "outputs": []
    },
    {
      "cell_type": "code",
      "source": [
        "labels"
      ],
      "metadata": {
        "colab": {
          "base_uri": "https://localhost:8080/"
        },
        "id": "YZMaG-l8AeSN",
        "outputId": "53e37e2d-5fe4-4c03-bd87-e36fac12a630"
      },
      "execution_count": 10,
      "outputs": [
        {
          "output_type": "execute_result",
          "data": {
            "text/plain": [
              "tensor([5, 6, 6, 2, 5, 4, 2, 1, 1, 9, 4, 9, 7, 0, 4, 5, 5, 4, 5, 2, 3, 6, 1, 9,\n",
              "        6, 2, 9, 7, 8, 5, 6, 8])"
            ]
          },
          "metadata": {},
          "execution_count": 10
        }
      ]
    },
    {
      "cell_type": "code",
      "source": [
        "imgs.size()"
      ],
      "metadata": {
        "colab": {
          "base_uri": "https://localhost:8080/"
        },
        "id": "uCwVZFe6AeV_",
        "outputId": "0f2aaee2-64db-458d-c436-606a70804687"
      },
      "execution_count": 11,
      "outputs": [
        {
          "output_type": "execute_result",
          "data": {
            "text/plain": [
              "torch.Size([32, 3, 32, 32])"
            ]
          },
          "metadata": {},
          "execution_count": 11
        }
      ]
    },
    {
      "cell_type": "code",
      "source": [
        "img = imgs[0]\n",
        "img_permute = img.permute(1, 2, 0)#imgに格納されている画像を表示するためにチャンネルファーストからチャンネルラスト方式へ変更\n",
        "plt.imshow(img_permute)"
      ],
      "metadata": {
        "colab": {
          "base_uri": "https://localhost:8080/",
          "height": 302
        },
        "id": "t8Ns1j-HBXrp",
        "outputId": "b15d1faf-36f5-4199-9f4d-d81cf0206865"
      },
      "execution_count": 12,
      "outputs": [
        {
          "output_type": "stream",
          "name": "stderr",
          "text": [
            "Clipping input data to the valid range for imshow with RGB data ([0..1] for floats or [0..255] for integers).\n"
          ]
        },
        {
          "output_type": "execute_result",
          "data": {
            "text/plain": [
              "<matplotlib.image.AxesImage at 0x7f77c6751950>"
            ]
          },
          "metadata": {},
          "execution_count": 12
        },
        {
          "output_type": "display_data",
          "data": {
            "text/plain": [
              "<Figure size 432x288 with 1 Axes>"
            ],
            "image/png": "[encoded data removed]"
          },
          "metadata": {
            "needs_background": "light"
          }
        }
      ]
    },
    {
      "cell_type": "code",
      "source": [
        "img_permute = 0.5*img_permute + 0.5\n",
        "img_permute = np.clip(img_permute, 0, 1)\n",
        "plt.imshow(img_permute) "
      ],
      "metadata": {
        "colab": {
          "base_uri": "https://localhost:8080/",
          "height": 284
        },
        "id": "N6GWJVDECqOd",
        "outputId": "96b20876-e2b3-4146-fffc-f9fb4d2cb099"
      },
      "execution_count": 13,
      "outputs": [
        {
          "output_type": "execute_result",
          "data": {
            "text/plain": [
              "<matplotlib.image.AxesImage at 0x7f77c5216c50>"
            ]
          },
          "metadata": {},
          "execution_count": 13
        },
        {
          "output_type": "display_data",
          "data": {
            "text/plain": [
              "<Figure size 432x288 with 1 Axes>"
            ],
            "image/png": "[encoded data removed]"
          },
          "metadata": {
            "needs_background": "light"
          }
        }
      ]
    },
    {
      "cell_type": "markdown",
      "source": [
        "ラベル番号は5で犬だったが、たしかに犬の画像だった"
      ],
      "metadata": {
        "id": "H25gBWyCDt5N"
      }
    },
    {
      "cell_type": "code",
      "source": [
        "class CNN(nn.Module):\n",
        "    def __init__(self, num_classes):#num_classesは何クラスに分類するのかを示す\n",
        "        super().__init__()\n",
        "        self.features = nn.Sequential(\n",
        "            nn.Conv2d(in_channels=3, out_channels=64, kernel_size=5, padding=2),#畳み込み\n",
        "            nn.ReLU(inplace=True),#活性化関数\n",
        "            nn.MaxPool2d(kernel_size=2),#プーリング層.32/2=16,つまり16*16のサイズに縮小された\n",
        "            nn.Conv2d(in_channels=64, out_channels=128, kernel_size=3, padding=1),\n",
        "            nn.ReLU(inplace=True),\n",
        "            nn.MaxPool2d(kernel_size=2),#プーリング層.16/2=8,つまり8*8のサイズに縮小された\n",
        "            nn.Conv2d(in_channels=128, out_channels=256, kernel_size=3, padding=1),\n",
        "            nn.ReLU(inplace=True),\n",
        "            nn.MaxPool2d(kernel_size=2),#プーリング層.8/2=4,つまり4*4のサイズに縮小された\n",
        "            nn.Conv2d(in_channels=256, out_channels=128, kernel_size=3, padding=1),\n",
        "            nn.ReLU(inplace=True),\n",
        "        )\n",
        "        self.classifier = nn.Linear(in_features=4*4*128, out_features=num_classes)#全結合層\n",
        "    def forward(self, x):\n",
        "      x = self.features(x)#(4,4,128)の三次元配列を格納。4*4のサイズの画像が128枚あるという意味\n",
        "      x = x.view(x.size(0), -1)#x.size()は(32,128,4,4)=(バッチ数、チャンネル数、縦サイズ、横サイズ)\n",
        "      x = self.classifier(x)\n",
        "      return x"
      ],
      "metadata": {
        "id": "M5y3LCqSC8Ry"
      },
      "execution_count": 14,
      "outputs": []
    },
    {
      "cell_type": "code",
      "source": [
        "model = CNN(10)\n",
        "model.to(device)"
      ],
      "metadata": {
        "colab": {
          "base_uri": "https://localhost:8080/"
        },
        "id": "s0Sp-OauZZt6",
        "outputId": "18494520-3ee9-4892-cf20-abdadf4ed280"
      },
      "execution_count": 15,
      "outputs": [
        {
          "output_type": "execute_result",
          "data": {
            "text/plain": [
              "CNN(\n",
              "  (features): Sequential(\n",
              "    (0): Conv2d(3, 64, kernel_size=(5, 5), stride=(1, 1), padding=(2, 2))\n",
              "    (1): ReLU(inplace=True)\n",
              "    (2): MaxPool2d(kernel_size=2, stride=2, padding=0, dilation=1, ceil_mode=False)\n",
              "    (3): Conv2d(64, 128, kernel_size=(3, 3), stride=(1, 1), padding=(1, 1))\n",
              "    (4): ReLU(inplace=True)\n",
              "    (5): MaxPool2d(kernel_size=2, stride=2, padding=0, dilation=1, ceil_mode=False)\n",
              "    (6): Conv2d(128, 256, kernel_size=(3, 3), stride=(1, 1), padding=(1, 1))\n",
              "    (7): ReLU(inplace=True)\n",
              "    (8): MaxPool2d(kernel_size=2, stride=2, padding=0, dilation=1, ceil_mode=False)\n",
              "    (9): Conv2d(256, 128, kernel_size=(3, 3), stride=(1, 1), padding=(1, 1))\n",
              "    (10): ReLU(inplace=True)\n",
              "  )\n",
              "  (classifier): Linear(in_features=2048, out_features=10, bias=True)\n",
              ")"
            ]
          },
          "metadata": {},
          "execution_count": 15
        }
      ]
    },
    {
      "cell_type": "code",
      "source": [
        "criterion = nn.CrossEntropyLoss()\n",
        "optimizer = optim.Adam(model.parameters(), lr=0.001, weight_decay=5e-4)"
      ],
      "metadata": {
        "id": "RFrN4kIXZahQ"
      },
      "execution_count": 16,
      "outputs": []
    },
    {
      "cell_type": "code",
      "source": [
        "num_epochs = 15\n",
        "losses = []\n",
        "accs = []\n",
        "val_losses = []\n",
        "val_accs = []\n",
        "for epoch in range(num_epochs):\n",
        "    running_loss = 0.0\n",
        "    running_acc = 0.0\n",
        "    for imgs, labels in train_dataloader:\n",
        "        imgs = imgs.to(device)#読み込んだ入力データをGPUに送る\n",
        "        labels = labels.to(device)\n",
        "        optimizer.zero_grad()#勾配の初期化\n",
        "        output = model(imgs)#入力データをモデルに入力\n",
        "        loss = criterion(output, labels)#損失関数で誤差を計算\n",
        "        loss.backward()#誤差逆伝播\n",
        "        running_loss += loss.item()#誤差を格納\n",
        "        pred = torch.argmax(output, dim=1)#画像がどのクラスに属するか予測\n",
        "        running_acc += torch.mean(pred.eq(labels).float())#予測精度を格納\n",
        "        optimizer.step()#重みの更新\n",
        "    running_loss /= len(train_dataloader)\n",
        "    running_acc /= len(train_dataloader)\n",
        "    losses.append(running_loss)\n",
        "    accs.append(running_acc)\n",
        "    #\n",
        "    #以下検証データのループ validation_loop\n",
        "    #\n",
        "    val_running_loss = 0.0\n",
        "    val_running_acc = 0.0\n",
        "    for val_imgs, val_labels in validation_dataloader:\n",
        "        val_imgs = val_imgs.to(device)\n",
        "        val_labels = val_labels.to(device)\n",
        "        val_output = model(val_imgs)\n",
        "        val_loss = criterion(val_output, val_labels)\n",
        "        val_running_loss += val_loss.item()\n",
        "        val_pred = torch.argmax(val_output, dim=1)\n",
        "        val_running_acc += torch.mean(val_pred.eq(val_labels).float())\n",
        "    val_running_loss /= len(validation_dataloader)\n",
        "    val_running_acc /= len(validation_dataloader) \n",
        "    val_losses.append(val_running_loss)\n",
        "    val_accs.append(val_running_acc)\n",
        "    print(\"epoch: {}, loss: {}, acc: {}, \\\n",
        "        val_loss: {}, val_acc: {} \".format(epoch, running_loss, running_acc, val_running_loss, val_running_acc))"
      ],
      "metadata": {
        "colab": {
          "base_uri": "https://localhost:8080/"
        },
        "id": "_Jy3OVgtZakO",
        "outputId": "cb0c85b1-715d-435e-e711-c8164bd55d92"
      },
      "execution_count": 17,
      "outputs": [
        {
          "output_type": "stream",
          "name": "stdout",
          "text": [
            "epoch: 0, loss: 1.4345104505217998, acc: 0.4741082787513733,         val_loss: 1.084914456541165, val_acc: 0.6135183572769165 \n",
            "epoch: 1, loss: 1.0093940188697113, acc: 0.643813967704773,         val_loss: 0.8997600267108637, val_acc: 0.6826078295707703 \n",
            "epoch: 2, loss: 0.8578103695133903, acc: 0.6972168684005737,         val_loss: 0.7831671898738264, val_acc: 0.7266373634338379 \n",
            "epoch: 3, loss: 0.7863114454085752, acc: 0.7240883111953735,         val_loss: 0.7498878097762696, val_acc: 0.7406150102615356 \n",
            "epoch: 4, loss: 0.7250806060992062, acc: 0.7475807666778564,         val_loss: 0.7110713407064018, val_acc: 0.7555910348892212 \n",
            "epoch: 5, loss: 0.6892368715692619, acc: 0.7600567936897278,         val_loss: 0.7027484494657181, val_acc: 0.7541933059692383 \n",
            "epoch: 6, loss: 0.6584715309981268, acc: 0.7704734802246094,         val_loss: 0.6643552153636092, val_acc: 0.7732627391815186 \n",
            "epoch: 7, loss: 0.6343539409143987, acc: 0.7783909440040588,         val_loss: 0.6647282385121519, val_acc: 0.7698681950569153 \n",
            "epoch: 8, loss: 0.6154786331849608, acc: 0.7859485149383545,         val_loss: 0.6622512914216556, val_acc: 0.7725638747215271 \n",
            "epoch: 9, loss: 0.6007332482630827, acc: 0.7901871204376221,         val_loss: 0.7010450510742565, val_acc: 0.7633785605430603 \n",
            "epoch: 10, loss: 0.5869135838705076, acc: 0.7937260270118713,         val_loss: 0.6193387339385553, val_acc: 0.7922323942184448 \n",
            "epoch: 11, loss: 0.5660900469495178, acc: 0.8017634153366089,         val_loss: 0.6130293527731119, val_acc: 0.7905351519584656 \n",
            "epoch: 12, loss: 0.5594848470091438, acc: 0.8038427829742432,         val_loss: 0.6266500767522727, val_acc: 0.785243570804596 \n",
            "epoch: 13, loss: 0.5527275188641905, acc: 0.8042226433753967,         val_loss: 0.5956372890990382, val_acc: 0.7937300205230713 \n",
            "epoch: 14, loss: 0.5447278266828638, acc: 0.8107805252075195,         val_loss: 0.6602686553622206, val_acc: 0.7758586406707764 \n"
          ]
        }
      ]
    },
    {
      "cell_type": "markdown",
      "source": [
        "エポック数が増えるにつれて、学習データと検証データの誤差lossは減少していき、学習データと検証データの精度は増していく。過学習は起きておらず学習はうまくいっていると思われる。"
      ],
      "metadata": {
        "id": "PnY2jbiflEou"
      }
    },
    {
      "cell_type": "code",
      "source": [
        "#誤差の図示\n",
        "plt.plot(losses, label='train_data')\n",
        "plt.plot(val_losses, label='validation_data')\n",
        "plt.legend()"
      ],
      "metadata": {
        "colab": {
          "base_uri": "https://localhost:8080/",
          "height": 283
        },
        "id": "imjnEEicZam0",
        "outputId": "f461cd9a-d0d9-4a5a-945e-9c3ff6a8d1c0"
      },
      "execution_count": 18,
      "outputs": [
        {
          "output_type": "execute_result",
          "data": {
            "text/plain": [
              "<matplotlib.legend.Legend at 0x7f77c499b510>"
            ]
          },
          "metadata": {},
          "execution_count": 18
        },
        {
          "output_type": "display_data",
          "data": {
            "text/plain": [
              "<Figure size 432x288 with 1 Axes>"
            ],
            "image/png": "[encoded data removed]"
          },
          "metadata": {
            "needs_background": "light"
          }
        }
      ]
    },
    {
      "cell_type": "markdown",
      "source": [
        "上図より、やはり過学習は起きておらず学習は上手くいったと言える。"
      ],
      "metadata": {
        "id": "mlU9nj3BmyFK"
      }
    },
    {
      "cell_type": "markdown",
      "source": [
        ""
      ],
      "metadata": {
        "id": "sAtfBV9HmUUi"
      }
    }
  ]
}